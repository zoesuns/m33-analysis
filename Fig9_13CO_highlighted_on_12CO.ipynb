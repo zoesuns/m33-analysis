{
 "cells": [
  {
   "cell_type": "code",
   "execution_count": 1,
   "id": "35175824",
   "metadata": {},
   "outputs": [],
   "source": [
    "import numpy as np\n",
    "import matplotlib.pyplot as plt\n",
    "from scipy import stats\n",
    "import pandas as pd\n",
    "import matplotlib as mpl"
   ]
  },
  {
   "cell_type": "code",
   "execution_count": 2,
   "id": "ad266510",
   "metadata": {},
   "outputs": [],
   "source": [
    "#load the first sheet of aggregationV3\n",
    "df12=pd.read_csv(\"../AggregationV4.csv\")\n",
    "df12=df12[:].copy()\n",
    "\n",
    "df13=pd.read_csv(\"../AggregationV4_13CO.csv\")\n",
    "df13=df13[:].copy()"
   ]
  },
  {
   "cell_type": "markdown",
   "id": "cce0ca75",
   "metadata": {},
   "source": [
    "## remake Fig 9, surf dens vs virial parameter"
   ]
  },
  {
   "cell_type": "code",
   "execution_count": null,
   "id": "3fe44678",
   "metadata": {},
   "outputs": [],
   "source": []
  },
  {
   "cell_type": "code",
   "execution_count": 3,
   "id": "33df1362",
   "metadata": {},
   "outputs": [],
   "source": [
    "plt.rcParams[\"text.usetex\"]=True\n",
    "plt.rcParams[\"axes.labelsize\"]=20\n",
    "plt.rcParams[\"ytick.labelsize\"]=16\n",
    "plt.rcParams[\"xtick.labelsize\"]=16\n"
   ]
  },
  {
   "cell_type": "markdown",
   "id": "7b62d312",
   "metadata": {},
   "source": [
    "### retain only necessary fields "
   ]
  },
  {
   "cell_type": "code",
   "execution_count": 4,
   "id": "0d2e8079",
   "metadata": {},
   "outputs": [],
   "source": [
    "df12_cut=df12[[\"CLOUDNUM\",\"VIRPARAM\",\"SURFDENS\"]]"
   ]
  },
  {
   "cell_type": "code",
   "execution_count": 5,
   "id": "307e9700",
   "metadata": {},
   "outputs": [
    {
     "data": {
      "text/html": [
       "<div>\n",
       "<style scoped>\n",
       "    .dataframe tbody tr th:only-of-type {\n",
       "        vertical-align: middle;\n",
       "    }\n",
       "\n",
       "    .dataframe tbody tr th {\n",
       "        vertical-align: top;\n",
       "    }\n",
       "\n",
       "    .dataframe thead th {\n",
       "        text-align: right;\n",
       "    }\n",
       "</style>\n",
       "<table border=\"1\" class=\"dataframe\">\n",
       "  <thead>\n",
       "    <tr style=\"text-align: right;\">\n",
       "      <th></th>\n",
       "      <th>CLOUDNUM</th>\n",
       "      <th>VIRPARAM</th>\n",
       "      <th>SURFDENS</th>\n",
       "    </tr>\n",
       "  </thead>\n",
       "  <tbody>\n",
       "    <tr>\n",
       "      <th>0</th>\n",
       "      <td>2</td>\n",
       "      <td>1.162017</td>\n",
       "      <td>310.560342</td>\n",
       "    </tr>\n",
       "    <tr>\n",
       "      <th>1</th>\n",
       "      <td>3</td>\n",
       "      <td>NaN</td>\n",
       "      <td>NaN</td>\n",
       "    </tr>\n",
       "    <tr>\n",
       "      <th>2</th>\n",
       "      <td>4</td>\n",
       "      <td>2.669905</td>\n",
       "      <td>109.389329</td>\n",
       "    </tr>\n",
       "    <tr>\n",
       "      <th>3</th>\n",
       "      <td>5</td>\n",
       "      <td>0.347396</td>\n",
       "      <td>536.428233</td>\n",
       "    </tr>\n",
       "    <tr>\n",
       "      <th>4</th>\n",
       "      <td>6</td>\n",
       "      <td>NaN</td>\n",
       "      <td>NaN</td>\n",
       "    </tr>\n",
       "    <tr>\n",
       "      <th>...</th>\n",
       "      <td>...</td>\n",
       "      <td>...</td>\n",
       "      <td>...</td>\n",
       "    </tr>\n",
       "    <tr>\n",
       "      <th>439</th>\n",
       "      <td>441</td>\n",
       "      <td>NaN</td>\n",
       "      <td>NaN</td>\n",
       "    </tr>\n",
       "    <tr>\n",
       "      <th>440</th>\n",
       "      <td>442</td>\n",
       "      <td>NaN</td>\n",
       "      <td>NaN</td>\n",
       "    </tr>\n",
       "    <tr>\n",
       "      <th>441</th>\n",
       "      <td>443</td>\n",
       "      <td>NaN</td>\n",
       "      <td>NaN</td>\n",
       "    </tr>\n",
       "    <tr>\n",
       "      <th>442</th>\n",
       "      <td>444</td>\n",
       "      <td>NaN</td>\n",
       "      <td>NaN</td>\n",
       "    </tr>\n",
       "    <tr>\n",
       "      <th>443</th>\n",
       "      <td>445</td>\n",
       "      <td>NaN</td>\n",
       "      <td>NaN</td>\n",
       "    </tr>\n",
       "  </tbody>\n",
       "</table>\n",
       "<p>444 rows × 3 columns</p>\n",
       "</div>"
      ],
      "text/plain": [
       "     CLOUDNUM  VIRPARAM    SURFDENS\n",
       "0           2  1.162017  310.560342\n",
       "1           3       NaN         NaN\n",
       "2           4  2.669905  109.389329\n",
       "3           5  0.347396  536.428233\n",
       "4           6       NaN         NaN\n",
       "..        ...       ...         ...\n",
       "439       441       NaN         NaN\n",
       "440       442       NaN         NaN\n",
       "441       443       NaN         NaN\n",
       "442       444       NaN         NaN\n",
       "443       445       NaN         NaN\n",
       "\n",
       "[444 rows x 3 columns]"
      ]
     },
     "execution_count": 5,
     "metadata": {},
     "output_type": "execute_result"
    }
   ],
   "source": [
    "df12_cut"
   ]
  },
  {
   "cell_type": "code",
   "execution_count": 6,
   "id": "a0e5573f",
   "metadata": {},
   "outputs": [],
   "source": [
    "df13_cut=df13[[\"CLOUDNUM\"]]"
   ]
  },
  {
   "cell_type": "code",
   "execution_count": 7,
   "id": "b0fd44be",
   "metadata": {},
   "outputs": [],
   "source": [
    "df_both=pd.merge(df13_cut, df12_cut, on='CLOUDNUM', how='inner')"
   ]
  },
  {
   "cell_type": "code",
   "execution_count": null,
   "id": "6aa17b2d",
   "metadata": {},
   "outputs": [],
   "source": []
  },
  {
   "cell_type": "code",
   "execution_count": 8,
   "id": "29b833c3",
   "metadata": {},
   "outputs": [
    {
     "data": {
      "image/png": "[encoded data removed]",
      "text/plain": [
       "<Figure size 360x288 with 1 Axes>"
      ]
     },
     "metadata": {
      "needs_background": "light"
     },
     "output_type": "display_data"
    }
   ],
   "source": [
    "plt.figure(figsize=(5,4))\n",
    "plt.scatter(df12_cut[\"SURFDENS\"],df12_cut[\"VIRPARAM\"],alpha=0.85)\n",
    "plt.scatter(df_both[\"SURFDENS\"],df_both[\"VIRPARAM\"],alpha=0.85)\n",
    "\n",
    "plt.ylim(0.1,10)\n",
    "plt.xlim(30,3000)\n",
    "plt.xlabel(r\"$\\Sigma_\\mathrm{mol}~[\\rm M_{\\odot}/pc^2]$\")\n",
    "plt.ylabel(r\"$\\alpha_{\\rm vir}$\")\n",
    "plt.loglog()\n",
    "plt.tight_layout()\n",
    "plt.savefig(\"surfdens_virialparam.pdf\")"
   ]
  },
  {
   "cell_type": "code",
   "execution_count": 9,
   "id": "170e5c03",
   "metadata": {},
   "outputs": [
    {
     "data": {
      "text/html": [
       "<div>\n",
       "<style scoped>\n",
       "    .dataframe tbody tr th:only-of-type {\n",
       "        vertical-align: middle;\n",
       "    }\n",
       "\n",
       "    .dataframe tbody tr th {\n",
       "        vertical-align: top;\n",
       "    }\n",
       "\n",
       "    .dataframe thead th {\n",
       "        text-align: right;\n",
       "    }\n",
       "</style>\n",
       "<table border=\"1\" class=\"dataframe\">\n",
       "  <thead>\n",
       "    <tr style=\"text-align: right;\">\n",
       "      <th></th>\n",
       "      <th>CLOUDNUM</th>\n",
       "      <th>VIRPARAM</th>\n",
       "      <th>SURFDENS</th>\n",
       "    </tr>\n",
       "  </thead>\n",
       "  <tbody>\n",
       "    <tr>\n",
       "      <th>230</th>\n",
       "      <td>232</td>\n",
       "      <td>5.623512</td>\n",
       "      <td>2.057102</td>\n",
       "    </tr>\n",
       "  </tbody>\n",
       "</table>\n",
       "</div>"
      ],
      "text/plain": [
       "     CLOUDNUM  VIRPARAM  SURFDENS\n",
       "230       232  5.623512  2.057102"
      ]
     },
     "execution_count": 9,
     "metadata": {},
     "output_type": "execute_result"
    }
   ],
   "source": [
    "df12_cut[df12_cut[\"SURFDENS\"]<10]"
   ]
  },
  {
   "cell_type": "code",
   "execution_count": null,
   "id": "5c27346c",
   "metadata": {},
   "outputs": [],
   "source": []
  }
 ],
 "metadata": {
  "kernelspec": {
   "display_name": "Python 3 (ipykernel)",
   "language": "python",
   "name": "python3"
  },
  "language_info": {
   "codemirror_mode": {
    "name": "ipython",
    "version": 3
   },
   "file_extension": ".py",
   "mimetype": "text/x-python",
   "name": "python",
   "nbconvert_exporter": "python",
   "pygments_lexer": "ipython3",
   "version": "3.9.7"
  }
 },
 "nbformat": 4,
 "nbformat_minor": 5
}
