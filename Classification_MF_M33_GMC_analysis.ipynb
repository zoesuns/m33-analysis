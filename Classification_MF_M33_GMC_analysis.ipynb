{
 "cells": [
  {
   "cell_type": "code",
   "execution_count": 1,
   "metadata": {
    "id": "7S9ZJKeHpTxg"
   },
   "outputs": [],
   "source": [
    "import numpy as np\n",
    "import matplotlib.pyplot as plt\n",
    "from scipy import stats\n",
    "import pandas as pd\n",
    "import matplotlib as mpl\n"
   ]
  },
  {
   "cell_type": "code",
   "execution_count": 2,
   "metadata": {
    "id": "13nY_dY6qQpO"
   },
   "outputs": [],
   "source": [
    "#load the first sheet of aggregationV3\n",
    "df=pd.read_csv(\"../AggregationV4.csv\")\n",
    "df=df[:442].copy()"
   ]
  },
  {
   "cell_type": "markdown",
   "metadata": {
    "id": "SYt6bdFZqtbV"
   },
   "source": [
    "SF indicators:"
   ]
  },
  {
   "cell_type": "code",
   "execution_count": 3,
   "metadata": {
    "id": "PjTm0BV5rGxo"
   },
   "outputs": [],
   "source": [
    "SFindic=[\"MIR_Cpt_Fraction\",\"Cpt_HII_region\",\"FUV_Sources\",\"Optical_Cluster\",\"Diffuse_HII_Fraction\"]"
   ]
  },
  {
   "cell_type": "code",
   "execution_count": 4,
   "metadata": {},
   "outputs": [
    {
     "data": {
      "text/html": [
       "<div>\n",
       "<style scoped>\n",
       "    .dataframe tbody tr th:only-of-type {\n",
       "        vertical-align: middle;\n",
       "    }\n",
       "\n",
       "    .dataframe tbody tr th {\n",
       "        vertical-align: top;\n",
       "    }\n",
       "\n",
       "    .dataframe thead th {\n",
       "        text-align: right;\n",
       "    }\n",
       "</style>\n",
       "<table border=\"1\" class=\"dataframe\">\n",
       "  <thead>\n",
       "    <tr style=\"text-align: right;\">\n",
       "      <th></th>\n",
       "      <th>CLOUDNUM</th>\n",
       "      <th>Round</th>\n",
       "      <th>Optical_Cluster</th>\n",
       "      <th>FUV_Sources</th>\n",
       "      <th>MIR_Cpt_Source</th>\n",
       "      <th>Cpt_HII_region</th>\n",
       "      <th>Diffuse_HII</th>\n",
       "      <th>N_Classifiers</th>\n",
       "      <th>Round_Fraction</th>\n",
       "      <th>MIR_Cpt_Fraction</th>\n",
       "      <th>...</th>\n",
       "      <th>SURFDENS</th>\n",
       "      <th>SIGMA0SQ</th>\n",
       "      <th>VIRPARAM</th>\n",
       "      <th>ECCEN</th>\n",
       "      <th>OLDNUM</th>\n",
       "      <th>RADIOSNR</th>\n",
       "      <th>RADIOHII</th>\n",
       "      <th>HST_AV</th>\n",
       "      <th>SF_class</th>\n",
       "      <th>SF_stage</th>\n",
       "    </tr>\n",
       "  </thead>\n",
       "  <tbody>\n",
       "    <tr>\n",
       "      <th>0</th>\n",
       "      <td>2</td>\n",
       "      <td>4</td>\n",
       "      <td>0</td>\n",
       "      <td>1.0</td>\n",
       "      <td>1</td>\n",
       "      <td>0.0</td>\n",
       "      <td>0</td>\n",
       "      <td>5</td>\n",
       "      <td>0.800000</td>\n",
       "      <td>0.200000</td>\n",
       "      <td>...</td>\n",
       "      <td>310.560342</td>\n",
       "      <td>0.977351</td>\n",
       "      <td>1.162017</td>\n",
       "      <td>0.944541</td>\n",
       "      <td>2</td>\n",
       "      <td>0.000000</td>\n",
       "      <td>0.000000</td>\n",
       "      <td>0.315498</td>\n",
       "      <td>3</td>\n",
       "      <td>Early SF</td>\n",
       "    </tr>\n",
       "    <tr>\n",
       "      <th>1</th>\n",
       "      <td>3</td>\n",
       "      <td>4</td>\n",
       "      <td>0.5</td>\n",
       "      <td>0.0</td>\n",
       "      <td>1</td>\n",
       "      <td>0.0</td>\n",
       "      <td>0</td>\n",
       "      <td>4</td>\n",
       "      <td>1.000000</td>\n",
       "      <td>0.250000</td>\n",
       "      <td>...</td>\n",
       "      <td>NaN</td>\n",
       "      <td>NaN</td>\n",
       "      <td>NaN</td>\n",
       "      <td>NaN</td>\n",
       "      <td>3</td>\n",
       "      <td>0.000000</td>\n",
       "      <td>0.000000</td>\n",
       "      <td>0.077754</td>\n",
       "      <td>2</td>\n",
       "      <td>Embedded SF</td>\n",
       "    </tr>\n",
       "    <tr>\n",
       "      <th>2</th>\n",
       "      <td>4</td>\n",
       "      <td>0</td>\n",
       "      <td>1</td>\n",
       "      <td>0.0</td>\n",
       "      <td>5</td>\n",
       "      <td>1.0</td>\n",
       "      <td>1</td>\n",
       "      <td>5</td>\n",
       "      <td>0.000000</td>\n",
       "      <td>1.000000</td>\n",
       "      <td>...</td>\n",
       "      <td>109.389329</td>\n",
       "      <td>0.790975</td>\n",
       "      <td>2.669905</td>\n",
       "      <td>0.984195</td>\n",
       "      <td>4</td>\n",
       "      <td>0.011364</td>\n",
       "      <td>0.988636</td>\n",
       "      <td>0.454575</td>\n",
       "      <td>4</td>\n",
       "      <td>Late SF</td>\n",
       "    </tr>\n",
       "    <tr>\n",
       "      <th>3</th>\n",
       "      <td>5</td>\n",
       "      <td>3</td>\n",
       "      <td>3</td>\n",
       "      <td>6.5</td>\n",
       "      <td>4</td>\n",
       "      <td>2.0</td>\n",
       "      <td>4</td>\n",
       "      <td>4</td>\n",
       "      <td>0.750000</td>\n",
       "      <td>1.000000</td>\n",
       "      <td>...</td>\n",
       "      <td>536.428233</td>\n",
       "      <td>0.504695</td>\n",
       "      <td>0.347396</td>\n",
       "      <td>0.943428</td>\n",
       "      <td>5</td>\n",
       "      <td>0.880252</td>\n",
       "      <td>0.119748</td>\n",
       "      <td>0.503835</td>\n",
       "      <td>4</td>\n",
       "      <td>Late SF</td>\n",
       "    </tr>\n",
       "    <tr>\n",
       "      <th>4</th>\n",
       "      <td>6</td>\n",
       "      <td>5</td>\n",
       "      <td>1</td>\n",
       "      <td>0.0</td>\n",
       "      <td>5</td>\n",
       "      <td>0.0</td>\n",
       "      <td>1</td>\n",
       "      <td>5</td>\n",
       "      <td>1.000000</td>\n",
       "      <td>1.000000</td>\n",
       "      <td>...</td>\n",
       "      <td>NaN</td>\n",
       "      <td>NaN</td>\n",
       "      <td>NaN</td>\n",
       "      <td>NaN</td>\n",
       "      <td>6</td>\n",
       "      <td>0.000000</td>\n",
       "      <td>0.000000</td>\n",
       "      <td>0.475271</td>\n",
       "      <td>4</td>\n",
       "      <td>Late SF</td>\n",
       "    </tr>\n",
       "    <tr>\n",
       "      <th>...</th>\n",
       "      <td>...</td>\n",
       "      <td>...</td>\n",
       "      <td>...</td>\n",
       "      <td>...</td>\n",
       "      <td>...</td>\n",
       "      <td>...</td>\n",
       "      <td>...</td>\n",
       "      <td>...</td>\n",
       "      <td>...</td>\n",
       "      <td>...</td>\n",
       "      <td>...</td>\n",
       "      <td>...</td>\n",
       "      <td>...</td>\n",
       "      <td>...</td>\n",
       "      <td>...</td>\n",
       "      <td>...</td>\n",
       "      <td>...</td>\n",
       "      <td>...</td>\n",
       "      <td>...</td>\n",
       "      <td>...</td>\n",
       "      <td>...</td>\n",
       "    </tr>\n",
       "    <tr>\n",
       "      <th>437</th>\n",
       "      <td>439</td>\n",
       "      <td>3</td>\n",
       "      <td>4</td>\n",
       "      <td>5.0</td>\n",
       "      <td>3</td>\n",
       "      <td>1.0</td>\n",
       "      <td>3</td>\n",
       "      <td>3</td>\n",
       "      <td>1.000000</td>\n",
       "      <td>1.000000</td>\n",
       "      <td>...</td>\n",
       "      <td>1136.398939</td>\n",
       "      <td>1.447087</td>\n",
       "      <td>0.470188</td>\n",
       "      <td>0.935179</td>\n",
       "      <td>429</td>\n",
       "      <td>0.209093</td>\n",
       "      <td>0.790907</td>\n",
       "      <td>0.269483</td>\n",
       "      <td>4</td>\n",
       "      <td>Late SF</td>\n",
       "    </tr>\n",
       "    <tr>\n",
       "      <th>438</th>\n",
       "      <td>440</td>\n",
       "      <td>2</td>\n",
       "      <td>0</td>\n",
       "      <td>1.0</td>\n",
       "      <td>1</td>\n",
       "      <td>0.0</td>\n",
       "      <td>3</td>\n",
       "      <td>3</td>\n",
       "      <td>0.666667</td>\n",
       "      <td>0.333333</td>\n",
       "      <td>...</td>\n",
       "      <td>NaN</td>\n",
       "      <td>NaN</td>\n",
       "      <td>NaN</td>\n",
       "      <td>NaN</td>\n",
       "      <td>430</td>\n",
       "      <td>0.000000</td>\n",
       "      <td>0.000000</td>\n",
       "      <td>NaN</td>\n",
       "      <td>3</td>\n",
       "      <td>Early SF</td>\n",
       "    </tr>\n",
       "    <tr>\n",
       "      <th>439</th>\n",
       "      <td>441</td>\n",
       "      <td>3</td>\n",
       "      <td>0</td>\n",
       "      <td>0.0</td>\n",
       "      <td>0</td>\n",
       "      <td>0.0</td>\n",
       "      <td>3</td>\n",
       "      <td>3</td>\n",
       "      <td>1.000000</td>\n",
       "      <td>0.000000</td>\n",
       "      <td>...</td>\n",
       "      <td>NaN</td>\n",
       "      <td>NaN</td>\n",
       "      <td>NaN</td>\n",
       "      <td>NaN</td>\n",
       "      <td>431</td>\n",
       "      <td>0.000000</td>\n",
       "      <td>0.000000</td>\n",
       "      <td>0.076383</td>\n",
       "      <td>1</td>\n",
       "      <td>Dark</td>\n",
       "    </tr>\n",
       "    <tr>\n",
       "      <th>440</th>\n",
       "      <td>442</td>\n",
       "      <td>0</td>\n",
       "      <td>2</td>\n",
       "      <td>3.0</td>\n",
       "      <td>0</td>\n",
       "      <td>0.0</td>\n",
       "      <td>3</td>\n",
       "      <td>3</td>\n",
       "      <td>0.000000</td>\n",
       "      <td>0.000000</td>\n",
       "      <td>...</td>\n",
       "      <td>NaN</td>\n",
       "      <td>NaN</td>\n",
       "      <td>NaN</td>\n",
       "      <td>NaN</td>\n",
       "      <td>432</td>\n",
       "      <td>0.000000</td>\n",
       "      <td>0.000000</td>\n",
       "      <td>0.162993</td>\n",
       "      <td>4</td>\n",
       "      <td>Late SF</td>\n",
       "    </tr>\n",
       "    <tr>\n",
       "      <th>441</th>\n",
       "      <td>443</td>\n",
       "      <td>2</td>\n",
       "      <td>0</td>\n",
       "      <td>0.0</td>\n",
       "      <td>1</td>\n",
       "      <td>0.0</td>\n",
       "      <td>0</td>\n",
       "      <td>3</td>\n",
       "      <td>0.666667</td>\n",
       "      <td>0.333333</td>\n",
       "      <td>...</td>\n",
       "      <td>NaN</td>\n",
       "      <td>NaN</td>\n",
       "      <td>NaN</td>\n",
       "      <td>NaN</td>\n",
       "      <td>434</td>\n",
       "      <td>0.374240</td>\n",
       "      <td>0.625760</td>\n",
       "      <td>0.066613</td>\n",
       "      <td>2</td>\n",
       "      <td>Embedded SF</td>\n",
       "    </tr>\n",
       "  </tbody>\n",
       "</table>\n",
       "<p>442 rows × 85 columns</p>\n",
       "</div>"
      ],
      "text/plain": [
       "     CLOUDNUM  Round Optical_Cluster  FUV_Sources  MIR_Cpt_Source  \\\n",
       "0           2      4               0          1.0               1   \n",
       "1           3      4             0.5          0.0               1   \n",
       "2           4      0               1          0.0               5   \n",
       "3           5      3               3          6.5               4   \n",
       "4           6      5               1          0.0               5   \n",
       "..        ...    ...             ...          ...             ...   \n",
       "437       439      3               4          5.0               3   \n",
       "438       440      2               0          1.0               1   \n",
       "439       441      3               0          0.0               0   \n",
       "440       442      0               2          3.0               0   \n",
       "441       443      2               0          0.0               1   \n",
       "\n",
       "     Cpt_HII_region  Diffuse_HII  N_Classifiers  Round_Fraction  \\\n",
       "0               0.0            0              5        0.800000   \n",
       "1               0.0            0              4        1.000000   \n",
       "2               1.0            1              5        0.000000   \n",
       "3               2.0            4              4        0.750000   \n",
       "4               0.0            1              5        1.000000   \n",
       "..              ...          ...            ...             ...   \n",
       "437             1.0            3              3        1.000000   \n",
       "438             0.0            3              3        0.666667   \n",
       "439             0.0            3              3        1.000000   \n",
       "440             0.0            3              3        0.000000   \n",
       "441             0.0            0              3        0.666667   \n",
       "\n",
       "     MIR_Cpt_Fraction  ...     SURFDENS  SIGMA0SQ  VIRPARAM     ECCEN  OLDNUM  \\\n",
       "0            0.200000  ...   310.560342  0.977351  1.162017  0.944541       2   \n",
       "1            0.250000  ...          NaN       NaN       NaN       NaN       3   \n",
       "2            1.000000  ...   109.389329  0.790975  2.669905  0.984195       4   \n",
       "3            1.000000  ...   536.428233  0.504695  0.347396  0.943428       5   \n",
       "4            1.000000  ...          NaN       NaN       NaN       NaN       6   \n",
       "..                ...  ...          ...       ...       ...       ...     ...   \n",
       "437          1.000000  ...  1136.398939  1.447087  0.470188  0.935179     429   \n",
       "438          0.333333  ...          NaN       NaN       NaN       NaN     430   \n",
       "439          0.000000  ...          NaN       NaN       NaN       NaN     431   \n",
       "440          0.000000  ...          NaN       NaN       NaN       NaN     432   \n",
       "441          0.333333  ...          NaN       NaN       NaN       NaN     434   \n",
       "\n",
       "     RADIOSNR  RADIOHII    HST_AV  SF_class     SF_stage  \n",
       "0    0.000000  0.000000  0.315498         3     Early SF  \n",
       "1    0.000000  0.000000  0.077754         2  Embedded SF  \n",
       "2    0.011364  0.988636  0.454575         4      Late SF  \n",
       "3    0.880252  0.119748  0.503835         4      Late SF  \n",
       "4    0.000000  0.000000  0.475271         4      Late SF  \n",
       "..        ...       ...       ...       ...          ...  \n",
       "437  0.209093  0.790907  0.269483         4      Late SF  \n",
       "438  0.000000  0.000000       NaN         3     Early SF  \n",
       "439  0.000000  0.000000  0.076383         1         Dark  \n",
       "440  0.000000  0.000000  0.162993         4      Late SF  \n",
       "441  0.374240  0.625760  0.066613         2  Embedded SF  \n",
       "\n",
       "[442 rows x 85 columns]"
      ]
     },
     "execution_count": 4,
     "metadata": {},
     "output_type": "execute_result"
    }
   ],
   "source": [
    "df"
   ]
  },
  {
   "cell_type": "code",
   "execution_count": 5,
   "metadata": {},
   "outputs": [
    {
     "data": {
      "text/plain": [
       "Index(['CLOUDNUM', 'Round', 'Optical_Cluster', 'FUV_Sources', 'MIR_Cpt_Source',\n",
       "       'Cpt_HII_region', 'Diffuse_HII', 'N_Classifiers', 'Round_Fraction',\n",
       "       'MIR_Cpt_Fraction', 'Diffuse_HII_Fraction', 'err_Optical_Cluster',\n",
       "       'err_FUV_Sources', 'err_Cpt_HII_region', 'S2N', 'NPIX', 'DISTANCE_PC',\n",
       "       'BEAMFWHM_PC', 'BEAMMAJ_PC', 'BEAMMIN_PC', 'RMSTORAD', 'PPBEAM',\n",
       "       'SIGCHAN_KMS', 'TMAX_K', 'XCTR_PIX', 'YCTR_PIX', 'VCTR_PIX', 'XCTR_DEG',\n",
       "       'YCTR_DEG', 'VCTR_KMS', 'XMAX_PIX', 'YMAX_PIX', 'VMAX_PIX', 'XMAX_DEG',\n",
       "       'YMAX_DEG', 'VMAX_KMS', 'MOMYPIX_NOEX', 'MOMYPIX', 'MOMVPIX_NOEX',\n",
       "       'MOMVPIX', 'MOMXPIX_NOEX', 'MOMXPIX', 'FLUX_NOEX', 'FLUX_KKMS_PC2',\n",
       "       'SIGV_KMS', 'MOMMAJPIX', 'MOMMAJPIX_NOEX', 'MOMMAJ_PC',\n",
       "       'MOMMAJ_NODC_PC', 'MOMMAJPIX_NODC', 'MOMMAJPIX_NODC_NOEX', 'MOMMINPIX',\n",
       "       'MOMMINPIX_NOEX', 'MOMMIN_PC', 'MOMMIN_NODC_PC', 'MOMMINPIX_NODC',\n",
       "       'MOMMINPIX_NODC_NOEX', 'POSANG', 'PA_DC', 'FWHM_MIN_DC', 'FWHM_MAJ_DC',\n",
       "       'RAD_PC', 'RAD_NOEX', 'RAD_NODC', 'RAD_NODC_NOEX', 'SIGV_NOEX',\n",
       "       'SIGV_NODC_NOEX', 'SIGV_NODC', 'ALPHA_CO', 'MLUM_MSUN', 'MVIR_MSUN',\n",
       "       'RGAL_KPC', 'RAD3D_PC', 'PRESSURE', 'TFF_MYR', 'SURFDENS', 'SIGMA0SQ',\n",
       "       'VIRPARAM', 'ECCEN', 'OLDNUM', 'RADIOSNR', 'RADIOHII', 'HST_AV',\n",
       "       'SF_class', 'SF_stage'],\n",
       "      dtype='object')"
      ]
     },
     "execution_count": 5,
     "metadata": {},
     "output_type": "execute_result"
    }
   ],
   "source": [
    "df.columns"
   ]
  },
  {
   "cell_type": "code",
   "execution_count": null,
   "metadata": {},
   "outputs": [],
   "source": []
  },
  {
   "cell_type": "markdown",
   "metadata": {
    "id": "amw6aBGxrtcu"
   },
   "source": [
    "## Correlation plots b/w SF indicators"
   ]
  },
  {
   "cell_type": "code",
   "execution_count": 7,
   "metadata": {
    "colab": {
     "base_uri": "https://localhost:8080/",
     "height": 297
    },
    "id": "bf0-ua5xpq4r",
    "outputId": "6f4a0cdc-8990-4362-a60d-7562d6a7377b"
   },
   "outputs": [
    {
     "data": {
      "image/png": "[encoded data removed]",
      "text/plain": [
       "<Figure size 432x288 with 1 Axes>"
      ]
     },
     "metadata": {
      "needs_background": "light"
     },
     "output_type": "display_data"
    }
   ],
   "source": [
    "xlab=SFindic[0]\n",
    "ylab=SFindic[2]\n",
    "\n",
    "xs=\"linear\"\n",
    "ys=\"linear\"\n",
    "\n",
    "nanfilt=(df[xlab]=='#NUM!')|(df[ylab]=='#NUM!')\n",
    "x=np.array(df[xlab][~nanfilt],dtype=float)\n",
    "y=np.array(df[ylab][~nanfilt],dtype=float)\n",
    "plt.figure()\n",
    "plt.title(\"Spearman Corr={:.2f}\".format(stats.spearmanr(x,y)[0]),fontsize=16)\n",
    "plt.scatter(x,y)\n",
    "plt.xlabel(xlab)\n",
    "plt.ylabel(ylab)\n",
    "plt.xscale(xs)\n",
    "plt.yscale(ys)\n",
    "plt.tight_layout()\n",
    "# plt.savefig(\"X_\"+xlab+\"_Y_\"+ylab+\".png\")\n",
    "plt.show()\n",
    "plt.close()"
   ]
  },
  {
   "cell_type": "markdown",
   "metadata": {
    "id": "6-UZVsBTsFDI"
   },
   "source": [
    "## Evolution Stage Classification"
   ]
  },
  {
   "cell_type": "code",
   "execution_count": 8,
   "metadata": {
    "colab": {
     "base_uri": "https://localhost:8080/"
    },
    "id": "f_d6ktFCtL8U",
    "outputId": "06a7d311-16b3-4300-e62e-13e0da70d079"
   },
   "outputs": [
    {
     "data": {
      "text/plain": [
       "435"
      ]
     },
     "execution_count": 8,
     "metadata": {},
     "output_type": "execute_result"
    }
   ],
   "source": [
    "#somehow there are many \"#NUM!\" in \"Optical_Cluster\", get rid of these\n",
    "df=df[df[\"Optical_Cluster\"]!=\"#NUM!\"]\n",
    "len(df)"
   ]
  },
  {
   "cell_type": "code",
   "execution_count": 9,
   "metadata": {
    "id": "_JduwOIhp1jB"
   },
   "outputs": [],
   "source": [
    "# np.array(df[\"MIR_Cpt_Fraction\"],dtype=float)"
   ]
  },
  {
   "cell_type": "code",
   "execution_count": 10,
   "metadata": {
    "colab": {
     "base_uri": "https://localhost:8080/"
    },
    "id": "YMUDk3kFr7ta",
    "outputId": "7e40da8d-afcf-457d-c8bc-ec7e2faf7a71"
   },
   "outputs": [
    {
     "name": "stdout",
     "output_type": "stream",
     "text": [
      "69\n",
      "55\n",
      "96\n",
      "215\n",
      "69 69 311\n",
      "435\n"
     ]
    }
   ],
   "source": [
    "binaryThresh=0.2\n",
    "\n",
    "numThresh=1\n",
    "\n",
    "MIRfracThresh=binaryThresh\n",
    "diffHIIThresh=binaryThresh\n",
    "\n",
    "cptHIIThresh=numThresh\n",
    "fuvThresh=numThresh\n",
    "clsThresh=numThresh\n",
    "\n",
    "\n",
    "\n",
    "nothingFilt=(np.array(df[\"MIR_Cpt_Fraction\"],dtype=float)<MIRfracThresh)&\\\n",
    "                (np.array(df[\"Cpt_HII_region\"],dtype=float)<cptHIIThresh)&\\\n",
    "                    (np.array(df[\"FUV_Sources\"],dtype=float)<fuvThresh)&\\\n",
    "                        (np.array(df[\"Optical_Cluster\"],dtype=float)<clsThresh)\n",
    "\n",
    "embFilt=(np.array(df[\"MIR_Cpt_Fraction\"],dtype=float)>=MIRfracThresh)&\\\n",
    "                (np.array(df[\"Cpt_HII_region\"],dtype=float)<cptHIIThresh)&\\\n",
    "                    (np.array(df[\"FUV_Sources\"],dtype=float)<fuvThresh)&\\\n",
    "                        (np.array(df[\"Optical_Cluster\"],dtype=float)<clsThresh)\n",
    "\n",
    "earlyFilt=(~nothingFilt)&(~embFilt)&(np.array(df[\"Optical_Cluster\"],dtype=float)<clsThresh)\n",
    "\n",
    "\n",
    "lateFilt=(~nothingFilt)&(~embFilt)&(~earlyFilt)\n",
    "# &\\\n",
    "#             ((np.array(df[\"Optical_Cluster\"],dtype=float)>0.8)|(np.array(df[\"Diffuse_HII_Fraction\"],dtype=float)>noThresh))\n",
    "\n",
    "print(np.sum(nothingFilt))\n",
    "print(np.sum(embFilt))\n",
    "print(np.sum(earlyFilt))\n",
    "print(np.sum(lateFilt))\n",
    "print(np.sum(nothingFilt),np.sum(nothingFilt),np.sum(earlyFilt)+np.sum(lateFilt))\n",
    "print(np.sum(nothingFilt)+np.sum(embFilt)+np.sum(earlyFilt)+np.sum(lateFilt))\n"
   ]
  },
  {
   "cell_type": "code",
   "execution_count": 11,
   "metadata": {},
   "outputs": [
    {
     "data": {
      "text/plain": [
       "7        9\n",
       "8       10\n",
       "10      12\n",
       "14      16\n",
       "15      17\n",
       "      ... \n",
       "396    398\n",
       "425    427\n",
       "426    428\n",
       "432    434\n",
       "439    441\n",
       "Name: CLOUDNUM, Length: 69, dtype: int64"
      ]
     },
     "execution_count": 11,
     "metadata": {},
     "output_type": "execute_result"
    }
   ],
   "source": [
    "df[\"CLOUDNUM\"][nothingFilt]"
   ]
  },
  {
   "cell_type": "code",
   "execution_count": 12,
   "metadata": {},
   "outputs": [
    {
     "data": {
      "text/plain": [
       "1        3\n",
       "9       11\n",
       "12      14\n",
       "17      19\n",
       "18      20\n",
       "24      26\n",
       "30      32\n",
       "38      40\n",
       "40      42\n",
       "49      51\n",
       "53      55\n",
       "60      62\n",
       "65      67\n",
       "73      75\n",
       "77      79\n",
       "87      89\n",
       "92      94\n",
       "98     100\n",
       "107    109\n",
       "143    145\n",
       "152    154\n",
       "174    176\n",
       "194    196\n",
       "210    212\n",
       "240    242\n",
       "242    244\n",
       "266    268\n",
       "273    275\n",
       "276    278\n",
       "294    296\n",
       "301    303\n",
       "306    308\n",
       "311    313\n",
       "331    333\n",
       "340    342\n",
       "342    344\n",
       "353    355\n",
       "355    357\n",
       "357    359\n",
       "363    365\n",
       "368    370\n",
       "369    371\n",
       "370    372\n",
       "376    378\n",
       "379    381\n",
       "381    383\n",
       "401    403\n",
       "407    409\n",
       "414    416\n",
       "417    419\n",
       "422    424\n",
       "428    430\n",
       "430    432\n",
       "431    433\n",
       "441    443\n",
       "Name: CLOUDNUM, dtype: int64"
      ]
     },
     "execution_count": 12,
     "metadata": {},
     "output_type": "execute_result"
    }
   ],
   "source": [
    "df[\"CLOUDNUM\"][embFilt]"
   ]
  },
  {
   "cell_type": "markdown",
   "metadata": {
    "id": "iTfkAvmutveU"
   },
   "source": [
    "## Mass function plots\n"
   ]
  },
  {
   "cell_type": "code",
   "execution_count": 13,
   "metadata": {},
   "outputs": [
    {
     "name": "stdout",
     "output_type": "stream",
     "text": [
      "69\n",
      "55\n",
      "96\n",
      "215\n",
      "69 69 311\n",
      "435\n"
     ]
    }
   ],
   "source": [
    "binaryThresh=0.2\n",
    "\n",
    "numThresh=1\n",
    "\n",
    "MIRfracThresh=binaryThresh\n",
    "diffHIIThresh=binaryThresh\n",
    "\n",
    "cptHIIThresh=numThresh\n",
    "fuvThresh=numThresh\n",
    "clsThresh=numThresh\n",
    "\n",
    "\n",
    "\n",
    "nothingFilt=(np.array(df[\"MIR_Cpt_Fraction\"],dtype=float)<MIRfracThresh)&\\\n",
    "                (np.array(df[\"Cpt_HII_region\"],dtype=float)<cptHIIThresh)&\\\n",
    "                    (np.array(df[\"FUV_Sources\"],dtype=float)<fuvThresh)&\\\n",
    "                        (np.array(df[\"Optical_Cluster\"],dtype=float)<clsThresh)\n",
    "\n",
    "embFilt=(np.array(df[\"MIR_Cpt_Fraction\"],dtype=float)>=MIRfracThresh)&\\\n",
    "                (np.array(df[\"Cpt_HII_region\"],dtype=float)<cptHIIThresh)&\\\n",
    "                    (np.array(df[\"FUV_Sources\"],dtype=float)<fuvThresh)&\\\n",
    "                        (np.array(df[\"Optical_Cluster\"],dtype=float)<clsThresh)\n",
    "earlyFilt=(~nothingFilt)&(~embFilt)&(np.array(df[\"Optical_Cluster\"],dtype=float)<clsThresh)\n",
    "\n",
    "\n",
    "lateFilt=(~nothingFilt)&(~embFilt)&(~earlyFilt)\n",
    "# &\\\n",
    "#             ((np.array(df[\"Optical_Cluster\"],dtype=float)>0.8)|(np.array(df[\"Diffuse_HII_Fraction\"],dtype=float)>noThresh))\n",
    "\n",
    "print(np.sum(nothingFilt))\n",
    "print(np.sum(embFilt))\n",
    "print(np.sum(earlyFilt))\n",
    "print(np.sum(lateFilt))\n",
    "print(np.sum(nothingFilt),np.sum(nothingFilt),np.sum(earlyFilt)+np.sum(lateFilt))\n",
    "print(np.sum(nothingFilt)+np.sum(embFilt)+np.sum(earlyFilt)+np.sum(lateFilt))\n"
   ]
  },
  {
   "cell_type": "code",
   "execution_count": 17,
   "metadata": {},
   "outputs": [
    {
     "data": {
      "image/png": "[encoded data removed]",
      "text/plain": [
       "<Figure size 432x288 with 1 Axes>"
      ]
     },
     "metadata": {
      "needs_background": "light"
     },
     "output_type": "display_data"
    }
   ],
   "source": [
    "plt.rcParams[\"text.usetex\"]=True\n",
    "# plt.rcParams[\"xtick.direction\"]=\"in\"\n",
    "# plt.rcParams[\"ytick.direction\"]=\"in\"\n",
    "plt.rcParams[\"axes.labelsize\"]=18\n",
    "plt.rcParams['xtick.labelsize']=16\n",
    "plt.rcParams['ytick.labelsize']=16\n",
    "\n",
    "plt.figure(figsize=(6,4.))\n",
    "\n",
    "bins=np.logspace(3,6.3,10)\n",
    "binc=(bins[1:]+bins[:-1])/2\n",
    "binw=bins[1:]-bins[:-1]\n",
    "\n",
    "cDict={\"A\":\"tab:blue\",\"B\":\"tab:green\",\"C\":\"tab:orange\",\"D\":\"tab:brown\"}\n",
    "\n",
    "n,_=np.histogram(df[\"MLUM_MSUN\"][nothingFilt],bins)\n",
    "plt.plot(binc,n/np.sum(nothingFilt)/binw,label=r\"$\\rm A) \\, No \\ SF$\",alpha=0.8,c=cDict[\"A\"],lw=2)\n",
    "\n",
    "n,_=np.histogram(df[\"MLUM_MSUN\"][embFilt],bins)\n",
    "plt.plot(binc,n/np.sum(embFilt)/binw,label=r\"$\\rm B) \\, Embedded \\ SF$\",alpha=0.8,c=cDict[\"B\"],lw=2)\n",
    "\n",
    "n,_=np.histogram(df[\"MLUM_MSUN\"][earlyFilt],bins)\n",
    "plt.plot(binc,n/np.sum(earlyFilt)/binw,label=r\"$\\rm C) \\, Early \\ SF$\",alpha=0.8,c=cDict[\"C\"],lw=2)\n",
    "\n",
    "n,_=np.histogram(df[\"MLUM_MSUN\"][lateFilt],bins)\n",
    "plt.plot(binc,n/np.sum(lateFilt)/binw,label=r\"$\\rm D) \\, Late \\ SF$\",alpha=0.8,c=cDict[\"D\"],lw=2)\n",
    "\n",
    "n,_=np.histogram(df[\"MLUM_MSUN\"],bins)\n",
    "plt.plot(binc,n/len(df)/binw,label=r\"$\\rm All$\",c='k',ls=\":\",alpha=1)\n",
    "\n",
    "plt.ylim(5e-8,2e-4)\n",
    "\n",
    "plt.legend(fontsize=12)\n",
    "plt.xscale(\"log\")\n",
    "plt.yscale(\"log\")\n",
    "# plt.ylim(1e-7,5e-5)\n",
    "plt.xlabel(r\"$M_{\\rm GMC} \\, [M_\\odot]$\")\n",
    "# plt.ylabel(r\"${\\rm PDF } \\ ({dn}/{N/ dM})$\")\n",
    "plt.ylabel(r\"$dn/dM/N$\")\n",
    "plt.tight_layout()\n",
    "plt.savefig(\"postdoc_GMC_PDF.pdf\")\n"
   ]
  },
  {
   "cell_type": "code",
   "execution_count": 18,
   "metadata": {},
   "outputs": [
    {
     "name": "stdout",
     "output_type": "stream",
     "text": [
      "KstestResult(statistic=0.36100131752305664, pvalue=0.0004595879727858909)\n",
      "KstestResult(statistic=0.27367424242424243, pvalue=0.00831961993572794)\n",
      "KstestResult(statistic=0.31017441860465117, pvalue=3.6816304574971426e-06)\n"
     ]
    }
   ],
   "source": [
    "print(stats.ks_2samp(df[\"MLUM_MSUN\"][nothingFilt], df[\"MLUM_MSUN\"][embFilt]))\n",
    "print(stats.ks_2samp(df[\"MLUM_MSUN\"][earlyFilt], df[\"MLUM_MSUN\"][embFilt]))\n",
    "print(stats.ks_2samp(df[\"MLUM_MSUN\"][earlyFilt], df[\"MLUM_MSUN\"][lateFilt]))"
   ]
  },
  {
   "cell_type": "code",
   "execution_count": null,
   "metadata": {},
   "outputs": [],
   "source": []
  },
  {
   "cell_type": "code",
   "execution_count": null,
   "metadata": {},
   "outputs": [],
   "source": []
  },
  {
   "cell_type": "code",
   "execution_count": 33,
   "metadata": {
    "colab": {
     "base_uri": "https://localhost:8080/",
     "height": 297
    },
    "id": "qQBx41EhttmA",
    "outputId": "0fc7454c-fe84-47bf-e361-8255c4d5e643"
   },
   "outputs": [
    {
     "data": {
      "image/png": "[encoded data removed]",
      "text/plain": [
       "<Figure size 432x288 with 1 Axes>"
      ]
     },
     "metadata": {
      "needs_background": "light"
     },
     "output_type": "display_data"
    }
   ],
   "source": [
    "mpl.rcParams[\"text.usetex\"]=True\n",
    "mpl.rcParams[\"axes.labelsize\"]=20\n",
    "mpl.rcParams['xtick.labelsize']=16\n",
    "mpl.rcParams['ytick.labelsize']=16\n",
    "\n",
    "# plt.style.use(\"mypresentation\")\n",
    "\n",
    "bins=np.logspace(3,6.3,10)\n",
    "binc=(bins[1:]+bins[:-1])/2\n",
    "binw=bins[1:]-bins[:-1]\n",
    "\n",
    "whichM=df[\"MLUM_MSUN\"]\n",
    "\n",
    "n,_=np.histogram(whichM[nothingFilt],bins)\n",
    "plt.plot(binc,n/np.sum(nothingFilt)/binw,label=r\"$\\rm Absolutely \\ No \\ SF$\",alpha=0.8)\n",
    "\n",
    "n,_=np.histogram(whichM[embFilt],bins)\n",
    "plt.plot(binc,n/np.sum(embFilt)/binw,label=r\"$\\rm only \\ embedded \\ SF$\",alpha=0.8)\n",
    "\n",
    "n,_=np.histogram(whichM[earlyFilt],bins)\n",
    "plt.plot(binc,n/np.sum(earlyFilt)/binw,label=r\"$\\rm early \\ SF$\",alpha=0.2)\n",
    "\n",
    "\n",
    "n,_=np.histogram(whichM[lateFilt],bins)\n",
    "plt.plot(binc,n/np.sum(lateFilt)/binw,label=r\"$\\rm late \\ SF$\",alpha=0.2)\n",
    "\n",
    "n,_=np.histogram(whichM,bins)\n",
    "plt.plot(binc,n/len(df)/binw,label=r\"$\\rm All$\",c='k',ls=\":\",alpha=1)\n",
    "\n",
    "allSlpData=n/len(df)/binw\n",
    "\n",
    "\n",
    "plt.ylim(1e-7,2e-4)\n",
    "\n",
    "plt.legend(fontsize=12)\n",
    "plt.xscale(\"log\")\n",
    "plt.yscale(\"log\")\n",
    "plt.xlabel(r\"$M_{\\rm GMC} [M_\\odot] \\rm $\")\n",
    "plt.ylabel(r\"$\\rm PDF$\")\n",
    "plt.tight_layout()\n"
   ]
  },
  {
   "cell_type": "code",
   "execution_count": 35,
   "metadata": {},
   "outputs": [
    {
     "name": "stdout",
     "output_type": "stream",
     "text": [
      "-1.0 -1.0\n"
     ]
    },
    {
     "name": "stderr",
     "output_type": "stream",
     "text": [
      "/var/folders/wt/w4gtm_155rn_bwd5w6kx9klm0000gp/T/ipykernel_63568/514524090.py:22: RuntimeWarning: divide by zero encountered in log10\n",
      "  y=np.log10(allSlpData)\n"
     ]
    }
   ],
   "source": [
    "import emcee\n",
    "\n",
    "from scipy.optimize import minimize\n",
    "\n",
    "import corner\n",
    "\n",
    "def log_likelihood(theta, x, y, yerr):\n",
    "    alpha,b = theta\n",
    "    model = alpha*x+b\n",
    "    sigma2 = yerr ** 2 \n",
    "    return -0.5 * np.sum((y - model) ** 2 / sigma2)\n",
    "\n",
    "\n",
    "bins=np.logspace(4,7,20)\n",
    "binc=(bins[1:]+bins[:-1])/2\n",
    "binw=bins[1:]-bins[:-1]\n",
    "\n",
    "n,_=np.histogram(whichM,bins)\n",
    "allSlpData=n/len(df)/binw\n",
    "\n",
    "x=np.log10(binc)\n",
    "y=np.log10(allSlpData)\n",
    "yerr=np.ones_like(x)\n",
    "\n",
    "np.random.seed(42)\n",
    "nll = lambda *args: -log_likelihood(*args)\n",
    "initial = np.array([-1,-1]) \n",
    "soln = minimize(nll, initial, args=(x, y, yerr))\n",
    "m_ml, b_ml = soln.x\n",
    "print(m_ml,b_ml)"
   ]
  },
  {
   "cell_type": "code",
   "execution_count": 73,
   "metadata": {},
   "outputs": [
    {
     "data": {
      "text/plain": [
       "1037117.026"
      ]
     },
     "execution_count": 73,
     "metadata": {},
     "output_type": "execute_result"
    }
   ],
   "source": [
    "df[\"MLUM_MSUN\"].max()"
   ]
  },
  {
   "cell_type": "code",
   "execution_count": 71,
   "metadata": {},
   "outputs": [
    {
     "data": {
      "text/plain": [
       "[<matplotlib.lines.Line2D at 0x7fafc8fac2e8>]"
      ]
     },
     "execution_count": 71,
     "metadata": {},
     "output_type": "execute_result"
    },
    {
     "data": {
      "image/png": "[encoded data removed]",
      "text/plain": [
       "<Figure size 1638.4x1228.8 with 1 Axes>"
      ]
     },
     "metadata": {
      "needs_background": "light"
     },
     "output_type": "display_data"
    }
   ],
   "source": [
    "\n",
    "plt.plot(x,y)\n",
    "plt.plot(x,m_ml*x+b_ml)\n"
   ]
  },
  {
   "cell_type": "code",
   "execution_count": 16,
   "metadata": {},
   "outputs": [
    {
     "name": "stdout",
     "output_type": "stream",
     "text": [
      "KstestResult(statistic=0.36100131752305664, pvalue=0.0004595879727858909)\n",
      "KstestResult(statistic=0.27367424242424243, pvalue=0.00831961993572794)\n",
      "KstestResult(statistic=0.31017441860465117, pvalue=3.6816304574971426e-06)\n"
     ]
    }
   ],
   "source": [
    "print(stats.ks_2samp(df[\"MLUM_MSUN\"][nothingFilt], df[\"MLUM_MSUN\"][embFilt]))\n",
    "print(stats.ks_2samp(df[\"MLUM_MSUN\"][earlyFilt], df[\"MLUM_MSUN\"][embFilt]))\n",
    "print(stats.ks_2samp(df[\"MLUM_MSUN\"][earlyFilt], df[\"MLUM_MSUN\"][lateFilt]))\n"
   ]
  },
  {
   "cell_type": "code",
   "execution_count": 15,
   "metadata": {
    "colab": {
     "base_uri": "https://localhost:8080/",
     "height": 315
    },
    "id": "2PlRWOJzllZE",
    "outputId": "7a661319-03c6-40ec-e734-f449b762c99d"
   },
   "outputs": [
    {
     "name": "stdout",
     "output_type": "stream",
     "text": [
      "KstestResult(statistic=0.39140429785107445, pvalue=1.0490695756537605e-08)\n",
      "KstestResult(statistic=0.2884012539184953, pvalue=0.00043434866941016725)\n",
      "KstestResult(statistic=0.36100131752305664, pvalue=0.0004595879727858909)\n"
     ]
    }
   ],
   "source": [
    "\n",
    "print(stats.ks_2samp(df[\"MLUM_MSUN\"], df[\"MLUM_MSUN\"][nothingFilt]))\n",
    "print(stats.ks_2samp(df[\"MLUM_MSUN\"], df[\"MLUM_MSUN\"][embFilt]))\n",
    "print(stats.ks_2samp(df[\"MLUM_MSUN\"][nothingFilt], df[\"MLUM_MSUN\"][embFilt]))\n",
    "\n",
    "# plt.xscale(\"log\")"
   ]
  },
  {
   "cell_type": "markdown",
   "metadata": {
    "id": "jyZsjxB2uF8V"
   },
   "source": [
    "## extinction plots"
   ]
  },
  {
   "cell_type": "code",
   "execution_count": 38,
   "metadata": {
    "colab": {
     "base_uri": "https://localhost:8080/",
     "height": 297
    },
    "id": "U8AhgGoJt_-v",
    "outputId": "4e5f827a-2779-47ef-ae2c-c15d1ecb83a1"
   },
   "outputs": [
    {
     "data": {
      "image/png": "[encoded data removed]",
      "text/plain": [
       "<Figure size 432x288 with 1 Axes>"
      ]
     },
     "metadata": {
      "needs_background": "light"
     },
     "output_type": "display_data"
    }
   ],
   "source": [
    "bins=np.linspace(-0.2,1.3,10)\n",
    "binc=(bins[1:]+bins[:-1])/2\n",
    "binw=bins[1:]-bins[:-1]\n",
    "\n",
    "\n",
    "n,_=np.histogram(df[\"HST_AV\"][nothingFilt],bins)\n",
    "plt.plot(binc,n/np.sum(nothingFilt)/binw,label=\"Absolutely No SF\",alpha=0.8)\n",
    "\n",
    "n,_=np.histogram(df[\"HST_AV\"][embFilt],bins)\n",
    "plt.plot(binc,n/np.sum(embFilt)/binw,label=\"only embedded SF\",alpha=0.8)\n",
    "\n",
    "n,_=np.histogram(df[\"HST_AV\"][earlyFilt],bins)\n",
    "plt.plot(binc,n/np.sum(earlyFilt)/binw,label=\"early SF\",alpha=0.2)\n",
    "\n",
    "# n,_=np.histogram(df[\"HST_AV\"][midFilt],bins)\n",
    "# plt.plot(binc,n/np.sum(midFilt)/binw,label=\"middle SF\",alpha=0.2)\n",
    "\n",
    "n,_=np.histogram(df[\"HST_AV\"][lateFilt],bins)\n",
    "plt.plot(binc,n/np.sum(lateFilt)/binw,label=\"late SF\",alpha=0.2)\n",
    "\n",
    "n,_=np.histogram(df[\"HST_AV\"],bins)\n",
    "plt.plot(binc,n/len(df)/binw,label=\"All\",c='k',ls=\":\",alpha=1)\n",
    "\n",
    "\n",
    "# plt.ylim(1e-7,2e-4)\n",
    "\n",
    "plt.legend(fontsize=12)\n",
    "# plt.xscale(\"log\")\n",
    "plt.yscale(\"log\")\n",
    "plt.xlabel(\"HST_AV\")\n",
    "plt.ylabel(\"PDF\")\n",
    "plt.tight_layout()\n",
    "# plt.savefig(\"noSF_dust_PDF.png\")"
   ]
  },
  {
   "cell_type": "markdown",
   "metadata": {
    "id": "KzM10OXQuP8U"
   },
   "source": [
    "## GMC mass vs extinction"
   ]
  },
  {
   "cell_type": "code",
   "execution_count": null,
   "metadata": {
    "colab": {
     "base_uri": "https://localhost:8080/",
     "height": 314
    },
    "id": "X4b9zs-XuL4i",
    "outputId": "c298913e-a6e6-4154-e44c-db522ecd142d"
   },
   "outputs": [
    {
     "name": "stdout",
     "output_type": "stream",
     "text": [
      "SpearmanrResult(correlation=0.3511111111111111, pvalue=0.07861852220819182)\n"
     ]
    },
    {
     "data": {
      "image/png": "[encoded data removed]",
      "text/plain": [
       "<Figure size 432x288 with 1 Axes>"
      ]
     },
     "metadata": {
      "needs_background": "light",
      "tags": []
     },
     "output_type": "display_data"
    }
   ],
   "source": [
    "plt.scatter(df[\"MLUM_MSUN\"][nothingFilt],df[\"HST_AV\"][nothingFilt],label=\"Absolutely No SF\",alpha=0.8)\n",
    "print(stats.spearmanr(df[\"MLUM_MSUN\"][nothingFilt][np.isnan(df[\"HST_AV\"][nothingFilt])==False],df[\"HST_AV\"][nothingFilt][np.isnan(df[\"HST_AV\"][nothingFilt])==False]))\n",
    "plt.scatter(df[\"MLUM_MSUN\"][embFilt],df[\"HST_AV\"][embFilt],label=\"embedded SF\",alpha=0.8)\n",
    "plt.scatter(df[\"MLUM_MSUN\"][earlyFilt],df[\"HST_AV\"][earlyFilt],label=\"early SF\",alpha=0.1)\n",
    "plt.scatter(df[\"MLUM_MSUN\"][midFilt],df[\"HST_AV\"][midFilt],label=\"middle SF\",alpha=0.1)\n",
    "plt.scatter(df[\"MLUM_MSUN\"][lateFilt],df[\"HST_AV\"][lateFilt],label=\"late SF\",alpha=0.1)\n",
    "\n",
    "plt.xlabel(\"MLUM_MSUN\")\n",
    "plt.ylabel(\"HST_AV\")\n",
    "plt.xscale(\"log\")\n",
    "plt.tight_layout()\n",
    "# plt.savefig(\"Mass_AV.png\")"
   ]
  },
  {
   "cell_type": "markdown",
   "metadata": {
    "id": "j6_UXaVnuzHL"
   },
   "source": [
    "## Shape filter"
   ]
  },
  {
   "cell_type": "code",
   "execution_count": null,
   "metadata": {
    "id": "z_fY80lrua01"
   },
   "outputs": [],
   "source": [
    "floatRF=np.array(df[\"Round_Fraction\"],dtype=float)\n",
    "round1Filt=(floatRF==1)\n",
    "relaRoundFilt=(floatRF>0.5)\n",
    "relaFilaFilt=(floatRF<0.5)\n",
    "round0Filt=(floatRF==0)"
   ]
  },
  {
   "cell_type": "code",
   "execution_count": null,
   "metadata": {
    "id": "5z3sDvjq4iFe"
   },
   "outputs": [],
   "source": []
  },
  {
   "cell_type": "markdown",
   "metadata": {
    "id": "3cka7avp4jW_"
   },
   "source": [
    "## Dispersal mechanism"
   ]
  },
  {
   "cell_type": "code",
   "execution_count": null,
   "metadata": {
    "colab": {
     "base_uri": "https://localhost:8080/"
    },
    "id": "5Lwap4lb4iIF",
    "outputId": "a748c220-77ef-4062-bc60-a9be88fb9604"
   },
   "outputs": [
    {
     "data": {
      "text/plain": [
       "Index(['GMC Number', 'Round', 'Optical_Cluster', 'FUV_Sources',\n",
       "       'MIR_Cpt_Source', 'Cpt_HII_region', 'Diffuse_HII', 'N_Classifiers',\n",
       "       'Round_Fraction', 'MIR_Cpt_Fraction', 'Diffuse_HII_Fraction',\n",
       "       'err_Optical_Cluster', 'err_FUV_Sources', 'err_Cpt_HII_region',\n",
       "       'Unnamed: 14', 'Unnamed: 15', 'Unnamed: 16', 'CLOUDNUM', 'RA', 'DEC',\n",
       "       'VLSR', 'RA_MAXPIX', 'DEC_MAXPIX', 'VLSR_MAXPIX', 'RGAL_KPC', 'NPIX',\n",
       "       'S2N', 'TMAX_K', 'FLUX_KKMS_PC2', 'SIGV_KMS', 'MOMMAJ_PC', 'MOMMIN_PC',\n",
       "       'MOMMIN_NODC_PC', 'POSANG', 'PA_DC', 'FWHM_MIN_DC', 'FWHM_MAJ_DC',\n",
       "       'RAD_PC', 'RAD_NODC_NOEX', 'ALPHA_CO', 'MLUM_MSUN', 'MVIR_MSUN',\n",
       "       'RAD3D_PC', 'PRESSURE', 'TFF_MYR', 'SURFDENS', 'SIGMA0SQ', 'VIRPARAM',\n",
       "       'ECCEN', 'RADIOSNR', 'RADIOHII', 'HST_AV'],\n",
       "      dtype='object')"
      ]
     },
     "execution_count": 7,
     "metadata": {
      "tags": []
     },
     "output_type": "execute_result"
    }
   ],
   "source": [
    "df.columns"
   ]
  },
  {
   "cell_type": "code",
   "execution_count": null,
   "metadata": {
    "colab": {
     "base_uri": "https://localhost:8080/",
     "height": 265
    },
    "id": "R0t4cv2l4y4j",
    "outputId": "3145d172-f9fd-4867-e743-3df039690f39"
   },
   "outputs": [
    {
     "data": {
      "image/png": "[encoded data removed]",
      "text/plain": [
       "<Figure size 432x288 with 1 Axes>"
      ]
     },
     "metadata": {
      "needs_background": "light",
      "tags": []
     },
     "output_type": "display_data"
    }
   ],
   "source": [
    "plt.hist(np.array(df[\"RADIOSNR\"],dtype=float))\n",
    "plt.hist(np.array(df[\"Diffuse_HII_Fraction\"],dtype=float),alpha=0.5)\n",
    "plt.yscale(\"log\")\n",
    "plt.show()"
   ]
  },
  {
   "cell_type": "code",
   "execution_count": null,
   "metadata": {
    "colab": {
     "base_uri": "https://localhost:8080/"
    },
    "id": "dQm3FUcf5kC0",
    "outputId": "6ccf5ecd-e619-45b1-d676-d13959ec3eef"
   },
   "outputs": [
    {
     "data": {
      "text/plain": [
       "40    1.333333333\n",
       "Name: Diffuse_HII_Fraction, dtype: object"
      ]
     },
     "execution_count": 21,
     "metadata": {
      "tags": []
     },
     "output_type": "execute_result"
    }
   ],
   "source": [
    "df[\"Diffuse_HII_Fraction\"][np.array(df[\"Diffuse_HII_Fraction\"],dtype=float)>1]"
   ]
  },
  {
   "cell_type": "code",
   "execution_count": null,
   "metadata": {
    "colab": {
     "base_uri": "https://localhost:8080/",
     "height": 357
    },
    "id": "jOAQA7Ls5c2s",
    "outputId": "d35c69b2-a8b0-4275-cfc8-271ae0d50a43"
   },
   "outputs": [
    {
     "data": {
      "text/plain": [
       "(array([ 99.,  29.,  26.,  20.,   3.,  35.,  15., 214.,   0.,   1.]),\n",
       " array([0.        , 0.13333333, 0.26666667, 0.4       , 0.53333333,\n",
       "        0.66666667, 0.8       , 0.93333333, 1.06666667, 1.2       ,\n",
       "        1.33333333]),\n",
       " <a list of 10 Patch objects>)"
      ]
     },
     "execution_count": 34,
     "metadata": {
      "tags": []
     },
     "output_type": "execute_result"
    },
    {
     "data": {
      "image/png": "[encoded data removed]",
      "text/plain": [
       "<Figure size 432x288 with 1 Axes>"
      ]
     },
     "metadata": {
      "needs_background": "light",
      "tags": []
     },
     "output_type": "display_data"
    }
   ],
   "source": [
    "plt.hist(arr)"
   ]
  }
 ],
 "metadata": {
  "colab": {
   "name": "Copy of M33_GMC_analysis.ipynb",
   "provenance": []
  },
  "kernelspec": {
   "display_name": "Python 3 (ipykernel)",
   "language": "python",
   "name": "python3"
  },
  "language_info": {
   "codemirror_mode": {
    "name": "ipython",
    "version": 3
   },
   "file_extension": ".py",
   "mimetype": "text/x-python",
   "name": "python",
   "nbconvert_exporter": "python",
   "pygments_lexer": "ipython3",
   "version": "3.9.7"
  }
 },
 "nbformat": 4,
 "nbformat_minor": 1
}
